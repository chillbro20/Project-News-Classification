{
 "cells": [
  {
   "cell_type": "markdown",
   "id": "ae324d28",
   "metadata": {
    "papermill": {
     "duration": 0.023788,
     "end_time": "2021-11-05T17:45:28.091456",
     "exception": false,
     "start_time": "2021-11-05T17:45:28.067668",
     "status": "completed"
    },
    "tags": []
   },
   "source": [
    "# 📥 Importing Libraries"
   ]
  },
  {
   "cell_type": "code",
   "execution_count": 1,
   "id": "9525abd0",
   "metadata": {
    "execution": {
     "iopub.execute_input": "2021-11-05T17:45:28.141245Z",
     "iopub.status.busy": "2021-11-05T17:45:28.135986Z",
     "iopub.status.idle": "2021-11-05T17:45:29.876771Z",
     "shell.execute_reply": "2021-11-05T17:45:29.877507Z",
     "shell.execute_reply.started": "2021-11-05T15:43:53.346284Z"
    },
    "papermill": {
     "duration": 1.766135,
     "end_time": "2021-11-05T17:45:29.877839",
     "exception": false,
     "start_time": "2021-11-05T17:45:28.111704",
     "status": "completed"
    },
    "tags": []
   },
   "outputs": [],
   "source": [
    "import re\n",
    "import json\n",
    "import string\n",
    "import nltk\n",
    "import numpy as np\n",
    "import pandas as pd\n",
    "import seaborn as sns\n",
    "from wordcloud import WordCloud\n",
    "from collections import Counter\n",
    "import matplotlib.pyplot as plt\n",
    "from sklearn.model_selection import train_test_split\n",
    "from sklearn.feature_extraction.text import  CountVectorizer\n",
    "from sklearn.naive_bayes import MultinomialNB\n",
    "from sklearn.metrics import confusion_matrix, classification_report, accuracy_score"
   ]
  },
  {
   "cell_type": "markdown",
   "id": "ba28de49",
   "metadata": {
    "papermill": {
     "duration": 0.019519,
     "end_time": "2021-11-05T17:45:29.917269",
     "exception": false,
     "start_time": "2021-11-05T17:45:29.897750",
     "status": "completed"
    },
    "tags": []
   },
   "source": [
    "# 🗃️ Load Dataset "
   ]
  },
  {
   "cell_type": "code",
   "execution_count": 2,
   "id": "d7f16300",
   "metadata": {
    "execution": {
     "iopub.execute_input": "2021-11-05T17:45:29.961332Z",
     "iopub.status.busy": "2021-11-05T17:45:29.960677Z",
     "iopub.status.idle": "2021-11-05T17:45:29.962384Z",
     "shell.execute_reply": "2021-11-05T17:45:29.962883Z",
     "shell.execute_reply.started": "2021-11-05T15:43:55.182733Z"
    },
    "papermill": {
     "duration": 0.026206,
     "end_time": "2021-11-05T17:45:29.963037",
     "exception": false,
     "start_time": "2021-11-05T17:45:29.936831",
     "status": "completed"
    },
    "tags": []
   },
   "outputs": [],
   "source": [
    "path ='Dataset/news.json'"
   ]
  },
  {
   "cell_type": "code",
   "execution_count": 3,
   "id": "4e425be3",
   "metadata": {
    "execution": {
     "iopub.execute_input": "2021-11-05T17:45:30.005329Z",
     "iopub.status.busy": "2021-11-05T17:45:30.004679Z",
     "iopub.status.idle": "2021-11-05T17:45:32.056447Z",
     "shell.execute_reply": "2021-11-05T17:45:32.056947Z",
     "shell.execute_reply.started": "2021-11-05T15:43:55.189043Z"
    },
    "papermill": {
     "duration": 2.074686,
     "end_time": "2021-11-05T17:45:32.057137",
     "exception": false,
     "start_time": "2021-11-05T17:45:29.982451",
     "status": "completed"
    },
    "tags": []
   },
   "outputs": [],
   "source": [
    "list_ = []\n",
    "with open(path) as files:\n",
    "    for file in files:\n",
    "        list_.append(json.loads(file))"
   ]
  },
  {
   "cell_type": "markdown",
   "id": "446e26bf",
   "metadata": {
    "papermill": {
     "duration": 0.01975,
     "end_time": "2021-11-05T17:45:32.097289",
     "exception": false,
     "start_time": "2021-11-05T17:45:32.077539",
     "status": "completed"
    },
    "tags": []
   },
   "source": [
    "# 📝 Meta information of Dataframe"
   ]
  },
  {
   "cell_type": "code",
   "execution_count": 4,
   "id": "61820f18",
   "metadata": {
    "execution": {
     "iopub.execute_input": "2021-11-05T17:45:32.146525Z",
     "iopub.status.busy": "2021-11-05T17:45:32.145493Z",
     "iopub.status.idle": "2021-11-05T17:45:32.496625Z",
     "shell.execute_reply": "2021-11-05T17:45:32.496033Z",
     "shell.execute_reply.started": "2021-11-05T15:43:57.3715Z"
    },
    "papermill": {
     "duration": 0.37948,
     "end_time": "2021-11-05T17:45:32.496762",
     "exception": false,
     "start_time": "2021-11-05T17:45:32.117282",
     "status": "completed"
    },
    "tags": []
   },
   "outputs": [
    {
     "data": {
      "text/html": [
       "<div>\n",
       "<style scoped>\n",
       "    .dataframe tbody tr th:only-of-type {\n",
       "        vertical-align: middle;\n",
       "    }\n",
       "\n",
       "    .dataframe tbody tr th {\n",
       "        vertical-align: top;\n",
       "    }\n",
       "\n",
       "    .dataframe thead th {\n",
       "        text-align: right;\n",
       "    }\n",
       "</style>\n",
       "<table border=\"1\" class=\"dataframe\">\n",
       "  <thead>\n",
       "    <tr style=\"text-align: right;\">\n",
       "      <th></th>\n",
       "      <th>category</th>\n",
       "      <th>headline</th>\n",
       "      <th>authors</th>\n",
       "      <th>link</th>\n",
       "      <th>short_description</th>\n",
       "      <th>date</th>\n",
       "    </tr>\n",
       "  </thead>\n",
       "  <tbody>\n",
       "    <tr>\n",
       "      <th>0</th>\n",
       "      <td>CRIME</td>\n",
       "      <td>There Were 2 Mass Shootings In Texas Last Week...</td>\n",
       "      <td>Melissa Jeltsen</td>\n",
       "      <td>https://www.huffingtonpost.com/entry/texas-ama...</td>\n",
       "      <td>She left her husband. He killed their children...</td>\n",
       "      <td>2018-05-26</td>\n",
       "    </tr>\n",
       "    <tr>\n",
       "      <th>1</th>\n",
       "      <td>ENTERTAINMENT</td>\n",
       "      <td>Will Smith Joins Diplo And Nicky Jam For The 2...</td>\n",
       "      <td>Andy McDonald</td>\n",
       "      <td>https://www.huffingtonpost.com/entry/will-smit...</td>\n",
       "      <td>Of course it has a song.</td>\n",
       "      <td>2018-05-26</td>\n",
       "    </tr>\n",
       "    <tr>\n",
       "      <th>2</th>\n",
       "      <td>ENTERTAINMENT</td>\n",
       "      <td>Hugh Grant Marries For The First Time At Age 57</td>\n",
       "      <td>Ron Dicker</td>\n",
       "      <td>https://www.huffingtonpost.com/entry/hugh-gran...</td>\n",
       "      <td>The actor and his longtime girlfriend Anna Ebe...</td>\n",
       "      <td>2018-05-26</td>\n",
       "    </tr>\n",
       "    <tr>\n",
       "      <th>3</th>\n",
       "      <td>ENTERTAINMENT</td>\n",
       "      <td>Jim Carrey Blasts 'Castrato' Adam Schiff And D...</td>\n",
       "      <td>Ron Dicker</td>\n",
       "      <td>https://www.huffingtonpost.com/entry/jim-carre...</td>\n",
       "      <td>The actor gives Dems an ass-kicking for not fi...</td>\n",
       "      <td>2018-05-26</td>\n",
       "    </tr>\n",
       "    <tr>\n",
       "      <th>4</th>\n",
       "      <td>ENTERTAINMENT</td>\n",
       "      <td>Julianna Margulies Uses Donald Trump Poop Bags...</td>\n",
       "      <td>Ron Dicker</td>\n",
       "      <td>https://www.huffingtonpost.com/entry/julianna-...</td>\n",
       "      <td>The \"Dietland\" actress said using the bags is ...</td>\n",
       "      <td>2018-05-26</td>\n",
       "    </tr>\n",
       "  </tbody>\n",
       "</table>\n",
       "</div>"
      ],
      "text/plain": [
       "        category                                           headline  \\\n",
       "0          CRIME  There Were 2 Mass Shootings In Texas Last Week...   \n",
       "1  ENTERTAINMENT  Will Smith Joins Diplo And Nicky Jam For The 2...   \n",
       "2  ENTERTAINMENT    Hugh Grant Marries For The First Time At Age 57   \n",
       "3  ENTERTAINMENT  Jim Carrey Blasts 'Castrato' Adam Schiff And D...   \n",
       "4  ENTERTAINMENT  Julianna Margulies Uses Donald Trump Poop Bags...   \n",
       "\n",
       "           authors                                               link  \\\n",
       "0  Melissa Jeltsen  https://www.huffingtonpost.com/entry/texas-ama...   \n",
       "1    Andy McDonald  https://www.huffingtonpost.com/entry/will-smit...   \n",
       "2       Ron Dicker  https://www.huffingtonpost.com/entry/hugh-gran...   \n",
       "3       Ron Dicker  https://www.huffingtonpost.com/entry/jim-carre...   \n",
       "4       Ron Dicker  https://www.huffingtonpost.com/entry/julianna-...   \n",
       "\n",
       "                                   short_description        date  \n",
       "0  She left her husband. He killed their children...  2018-05-26  \n",
       "1                           Of course it has a song.  2018-05-26  \n",
       "2  The actor and his longtime girlfriend Anna Ebe...  2018-05-26  \n",
       "3  The actor gives Dems an ass-kicking for not fi...  2018-05-26  \n",
       "4  The \"Dietland\" actress said using the bags is ...  2018-05-26  "
      ]
     },
     "execution_count": 4,
     "metadata": {},
     "output_type": "execute_result"
    }
   ],
   "source": [
    "data = pd.DataFrame(list_)\n",
    "data.head()"
   ]
  },
  {
   "cell_type": "code",
   "execution_count": 5,
   "id": "092577e8",
   "metadata": {
    "execution": {
     "iopub.execute_input": "2021-11-05T17:45:32.702086Z",
     "iopub.status.busy": "2021-11-05T17:45:32.701455Z",
     "iopub.status.idle": "2021-11-05T17:45:32.721573Z",
     "shell.execute_reply": "2021-11-05T17:45:32.722095Z",
     "shell.execute_reply.started": "2021-11-05T15:43:57.75425Z"
    },
    "papermill": {
     "duration": 0.204735,
     "end_time": "2021-11-05T17:45:32.722300",
     "exception": false,
     "start_time": "2021-11-05T17:45:32.517565",
     "status": "completed"
    },
    "tags": []
   },
   "outputs": [
    {
     "name": "stdout",
     "output_type": "stream",
     "text": [
      "<class 'pandas.core.frame.DataFrame'>\n",
      "RangeIndex: 200853 entries, 0 to 200852\n",
      "Data columns (total 6 columns):\n",
      " #   Column             Non-Null Count   Dtype \n",
      "---  ------             --------------   ----- \n",
      " 0   category           200853 non-null  object\n",
      " 1   headline           200853 non-null  object\n",
      " 2   authors            200853 non-null  object\n",
      " 3   link               200853 non-null  object\n",
      " 4   short_description  200853 non-null  object\n",
      " 5   date               200853 non-null  object\n",
      "dtypes: object(6)\n",
      "memory usage: 9.2+ MB\n"
     ]
    }
   ],
   "source": [
    "data.info()"
   ]
  },
  {
   "cell_type": "markdown",
   "id": "7e97e8b7",
   "metadata": {
    "papermill": {
     "duration": 0.02056,
     "end_time": "2021-11-05T17:45:32.763691",
     "exception": false,
     "start_time": "2021-11-05T17:45:32.743131",
     "status": "completed"
    },
    "tags": []
   },
   "source": [
    "# 🔎 Checking for NaN values"
   ]
  },
  {
   "cell_type": "code",
   "execution_count": 6,
   "id": "7b6eab0c",
   "metadata": {
    "execution": {
     "iopub.execute_input": "2021-11-05T17:45:32.968067Z",
     "iopub.status.busy": "2021-11-05T17:45:32.967114Z",
     "iopub.status.idle": "2021-11-05T17:45:32.975604Z",
     "shell.execute_reply": "2021-11-05T17:45:32.974939Z",
     "shell.execute_reply.started": "2021-11-05T15:43:57.9524Z"
    },
    "papermill": {
     "duration": 0.19125,
     "end_time": "2021-11-05T17:45:32.975748",
     "exception": false,
     "start_time": "2021-11-05T17:45:32.784498",
     "status": "completed"
    },
    "tags": []
   },
   "outputs": [
    {
     "data": {
      "text/plain": [
       "category             0\n",
       "headline             0\n",
       "authors              0\n",
       "link                 0\n",
       "short_description    0\n",
       "date                 0\n",
       "dtype: int64"
      ]
     },
     "execution_count": 6,
     "metadata": {},
     "output_type": "execute_result"
    }
   ],
   "source": [
    "data.isnull().sum()"
   ]
  },
  {
   "cell_type": "markdown",
   "id": "fbba0db7",
   "metadata": {
    "papermill": {
     "duration": 0.023036,
     "end_time": "2021-11-05T17:45:33.767329",
     "exception": false,
     "start_time": "2021-11-05T17:45:33.744293",
     "status": "completed"
    },
    "tags": []
   },
   "source": [
    "# 🧹 Cleaning Data"
   ]
  },
  {
   "cell_type": "code",
   "execution_count": 7,
   "id": "2a968255",
   "metadata": {
    "execution": {
     "iopub.execute_input": "2021-11-05T17:45:33.822983Z",
     "iopub.status.busy": "2021-11-05T17:45:33.816786Z",
     "iopub.status.idle": "2021-11-05T17:45:33.825780Z",
     "shell.execute_reply": "2021-11-05T17:45:33.825264Z",
     "shell.execute_reply.started": "2021-11-05T15:43:58.877781Z"
    },
    "papermill": {
     "duration": 0.035976,
     "end_time": "2021-11-05T17:45:33.825930",
     "exception": false,
     "start_time": "2021-11-05T17:45:33.789954",
     "status": "completed"
    },
    "tags": []
   },
   "outputs": [],
   "source": [
    "def clean_text(text):\n",
    "    text = text.lower()                                  # lower-case all characters\n",
    "    text =  re.sub(r'@\\S+', '',text)                     # remove twitter handles\n",
    "    text =  re.sub(r'http\\S+', '',text)                  # remove urls\n",
    "    text =  re.sub(r'pic.\\S+', '',text) \n",
    "    text =  re.sub(r\"[^a-zA-Z+']\", ' ',text)             # only keeps characters\n",
    "    text = re.sub(r'\\s+[a-zA-Z]\\s+', ' ', text+' ')      # keep words with length>1 only\n",
    "    text = \"\".join([i for i in text if i not in string.punctuation])\n",
    "    words = nltk.tokenize.word_tokenize(text)\n",
    "    stopwords = nltk.corpus.stopwords.words('english')   # remove stopwords\n",
    "    text = \" \".join([i for i in words if i not in stopwords and len(i)>2])\n",
    "    text= re.sub(\"\\s[\\s]+\", \" \",text).strip()            # remove repeated/leading/trailing spaces\n",
    "    return text"
   ]
  },
  {
   "cell_type": "code",
   "execution_count": 8,
   "id": "0a977bdd",
   "metadata": {},
   "outputs": [
    {
     "name": "stderr",
     "output_type": "stream",
     "text": [
      "[nltk_data] Downloading package stopwords to\n",
      "[nltk_data]     C:\\Users\\erris\\AppData\\Roaming\\nltk_data...\n",
      "[nltk_data]   Package stopwords is already up-to-date!\n"
     ]
    },
    {
     "data": {
      "text/plain": [
       "True"
      ]
     },
     "execution_count": 8,
     "metadata": {},
     "output_type": "execute_result"
    }
   ],
   "source": [
    "nltk.download('stopwords')"
   ]
  },
  {
   "cell_type": "code",
   "execution_count": 9,
   "id": "cb193f27",
   "metadata": {
    "execution": {
     "iopub.execute_input": "2021-11-05T17:45:33.880561Z",
     "iopub.status.busy": "2021-11-05T17:45:33.879553Z",
     "iopub.status.idle": "2021-11-05T17:46:50.516447Z",
     "shell.execute_reply": "2021-11-05T17:46:50.516958Z",
     "shell.execute_reply.started": "2021-11-05T15:43:58.888303Z"
    },
    "papermill": {
     "duration": 76.668099,
     "end_time": "2021-11-05T17:46:50.517131",
     "exception": false,
     "start_time": "2021-11-05T17:45:33.849032",
     "status": "completed"
    },
    "tags": []
   },
   "outputs": [
    {
     "data": {
      "text/html": [
       "<div>\n",
       "<style scoped>\n",
       "    .dataframe tbody tr th:only-of-type {\n",
       "        vertical-align: middle;\n",
       "    }\n",
       "\n",
       "    .dataframe tbody tr th {\n",
       "        vertical-align: top;\n",
       "    }\n",
       "\n",
       "    .dataframe thead th {\n",
       "        text-align: right;\n",
       "    }\n",
       "</style>\n",
       "<table border=\"1\" class=\"dataframe\">\n",
       "  <thead>\n",
       "    <tr style=\"text-align: right;\">\n",
       "      <th></th>\n",
       "      <th>category</th>\n",
       "      <th>headline</th>\n",
       "      <th>authors</th>\n",
       "      <th>link</th>\n",
       "      <th>short_description</th>\n",
       "      <th>date</th>\n",
       "      <th>Text_cleaning</th>\n",
       "    </tr>\n",
       "  </thead>\n",
       "  <tbody>\n",
       "    <tr>\n",
       "      <th>0</th>\n",
       "      <td>CRIME</td>\n",
       "      <td>There Were 2 Mass Shootings In Texas Last Week...</td>\n",
       "      <td>Melissa Jeltsen</td>\n",
       "      <td>https://www.huffingtonpost.com/entry/texas-ama...</td>\n",
       "      <td>She left her husband. He killed their children...</td>\n",
       "      <td>2018-05-26</td>\n",
       "      <td>mass shootings texas last week</td>\n",
       "    </tr>\n",
       "    <tr>\n",
       "      <th>1</th>\n",
       "      <td>ENTERTAINMENT</td>\n",
       "      <td>Will Smith Joins Diplo And Nicky Jam For The 2...</td>\n",
       "      <td>Andy McDonald</td>\n",
       "      <td>https://www.huffingtonpost.com/entry/will-smit...</td>\n",
       "      <td>Of course it has a song.</td>\n",
       "      <td>2018-05-26</td>\n",
       "      <td>smith joins diplo nicky jam world cups officia...</td>\n",
       "    </tr>\n",
       "    <tr>\n",
       "      <th>2</th>\n",
       "      <td>ENTERTAINMENT</td>\n",
       "      <td>Hugh Grant Marries For The First Time At Age 57</td>\n",
       "      <td>Ron Dicker</td>\n",
       "      <td>https://www.huffingtonpost.com/entry/hugh-gran...</td>\n",
       "      <td>The actor and his longtime girlfriend Anna Ebe...</td>\n",
       "      <td>2018-05-26</td>\n",
       "      <td>hugh grant marries first time age</td>\n",
       "    </tr>\n",
       "    <tr>\n",
       "      <th>3</th>\n",
       "      <td>ENTERTAINMENT</td>\n",
       "      <td>Jim Carrey Blasts 'Castrato' Adam Schiff And D...</td>\n",
       "      <td>Ron Dicker</td>\n",
       "      <td>https://www.huffingtonpost.com/entry/jim-carre...</td>\n",
       "      <td>The actor gives Dems an ass-kicking for not fi...</td>\n",
       "      <td>2018-05-26</td>\n",
       "      <td>jim carrey blasts castrato adam schiff democra...</td>\n",
       "    </tr>\n",
       "    <tr>\n",
       "      <th>4</th>\n",
       "      <td>ENTERTAINMENT</td>\n",
       "      <td>Julianna Margulies Uses Donald Trump Poop Bags...</td>\n",
       "      <td>Ron Dicker</td>\n",
       "      <td>https://www.huffingtonpost.com/entry/julianna-...</td>\n",
       "      <td>The \"Dietland\" actress said using the bags is ...</td>\n",
       "      <td>2018-05-26</td>\n",
       "      <td>julianna margulies uses donald trump poop bags...</td>\n",
       "    </tr>\n",
       "  </tbody>\n",
       "</table>\n",
       "</div>"
      ],
      "text/plain": [
       "        category                                           headline  \\\n",
       "0          CRIME  There Were 2 Mass Shootings In Texas Last Week...   \n",
       "1  ENTERTAINMENT  Will Smith Joins Diplo And Nicky Jam For The 2...   \n",
       "2  ENTERTAINMENT    Hugh Grant Marries For The First Time At Age 57   \n",
       "3  ENTERTAINMENT  Jim Carrey Blasts 'Castrato' Adam Schiff And D...   \n",
       "4  ENTERTAINMENT  Julianna Margulies Uses Donald Trump Poop Bags...   \n",
       "\n",
       "           authors                                               link  \\\n",
       "0  Melissa Jeltsen  https://www.huffingtonpost.com/entry/texas-ama...   \n",
       "1    Andy McDonald  https://www.huffingtonpost.com/entry/will-smit...   \n",
       "2       Ron Dicker  https://www.huffingtonpost.com/entry/hugh-gran...   \n",
       "3       Ron Dicker  https://www.huffingtonpost.com/entry/jim-carre...   \n",
       "4       Ron Dicker  https://www.huffingtonpost.com/entry/julianna-...   \n",
       "\n",
       "                                   short_description        date  \\\n",
       "0  She left her husband. He killed their children...  2018-05-26   \n",
       "1                           Of course it has a song.  2018-05-26   \n",
       "2  The actor and his longtime girlfriend Anna Ebe...  2018-05-26   \n",
       "3  The actor gives Dems an ass-kicking for not fi...  2018-05-26   \n",
       "4  The \"Dietland\" actress said using the bags is ...  2018-05-26   \n",
       "\n",
       "                                       Text_cleaning  \n",
       "0                     mass shootings texas last week  \n",
       "1  smith joins diplo nicky jam world cups officia...  \n",
       "2                  hugh grant marries first time age  \n",
       "3  jim carrey blasts castrato adam schiff democra...  \n",
       "4  julianna margulies uses donald trump poop bags...  "
      ]
     },
     "execution_count": 9,
     "metadata": {},
     "output_type": "execute_result"
    }
   ],
   "source": [
    "data['Text_cleaning'] = data.headline.apply(clean_text)\n",
    "data.head()"
   ]
  },
  {
   "cell_type": "markdown",
   "id": "41d12c3e",
   "metadata": {
    "papermill": {
     "duration": 0.022623,
     "end_time": "2021-11-05T17:46:50.562449",
     "exception": false,
     "start_time": "2021-11-05T17:46:50.539826",
     "status": "completed"
    },
    "tags": []
   },
   "source": [
    "# 🔢 The process of converting words into numbers"
   ]
  },
  {
   "cell_type": "code",
   "execution_count": null,
   "id": "1903c210",
   "metadata": {},
   "outputs": [],
   "source": []
  },
  {
   "cell_type": "code",
   "execution_count": 10,
   "id": "8948c776",
   "metadata": {
    "execution": {
     "iopub.execute_input": "2021-11-05T17:46:50.682721Z",
     "iopub.status.busy": "2021-11-05T17:46:50.646813Z",
     "iopub.status.idle": "2021-11-05T17:46:53.346364Z",
     "shell.execute_reply": "2021-11-05T17:46:53.345755Z",
     "shell.execute_reply.started": "2021-11-05T15:45:15.521256Z"
    },
    "papermill": {
     "duration": 2.761422,
     "end_time": "2021-11-05T17:46:53.346509",
     "exception": false,
     "start_time": "2021-11-05T17:46:50.585087",
     "status": "completed"
    },
    "tags": []
   },
   "outputs": [],
   "source": [
    "vectorizer = CountVectorizer()\n",
    "data_vectorizer = vectorizer.fit_transform(data['Text_cleaning'])"
   ]
  },
  {
   "cell_type": "code",
   "execution_count": 11,
   "id": "9960b7bd",
   "metadata": {
    "execution": {
     "iopub.execute_input": "2021-11-05T17:46:53.397640Z",
     "iopub.status.busy": "2021-11-05T17:46:53.396826Z",
     "iopub.status.idle": "2021-11-05T17:46:53.399523Z",
     "shell.execute_reply": "2021-11-05T17:46:53.398972Z",
     "shell.execute_reply.started": "2021-11-05T15:45:18.239583Z"
    },
    "papermill": {
     "duration": 0.029935,
     "end_time": "2021-11-05T17:46:53.399660",
     "exception": false,
     "start_time": "2021-11-05T17:46:53.369725",
     "status": "completed"
    },
    "tags": []
   },
   "outputs": [],
   "source": [
    "labels = data['category']"
   ]
  },
  {
   "cell_type": "markdown",
   "id": "732c8f93",
   "metadata": {
    "papermill": {
     "duration": 0.022438,
     "end_time": "2021-11-05T17:46:53.445099",
     "exception": false,
     "start_time": "2021-11-05T17:46:53.422661",
     "status": "completed"
    },
    "tags": []
   },
   "source": [
    "# ✂️ Train test split"
   ]
  },
  {
   "cell_type": "code",
   "execution_count": 12,
   "id": "09941470",
   "metadata": {
    "execution": {
     "iopub.execute_input": "2021-11-05T17:46:53.498080Z",
     "iopub.status.busy": "2021-11-05T17:46:53.497223Z",
     "iopub.status.idle": "2021-11-05T17:46:53.543585Z",
     "shell.execute_reply": "2021-11-05T17:46:53.544114Z",
     "shell.execute_reply.started": "2021-11-05T15:45:18.245257Z"
    },
    "papermill": {
     "duration": 0.076383,
     "end_time": "2021-11-05T17:46:53.544300",
     "exception": false,
     "start_time": "2021-11-05T17:46:53.467917",
     "status": "completed"
    },
    "tags": []
   },
   "outputs": [],
   "source": [
    "X_train, X_test, y_train, y_test = train_test_split(data_vectorizer, labels, test_size=0.2, random_state=42)"
   ]
  },
  {
   "cell_type": "markdown",
   "id": "f0a01d6a",
   "metadata": {
    "papermill": {
     "duration": 0.022607,
     "end_time": "2021-11-05T17:46:53.590002",
     "exception": false,
     "start_time": "2021-11-05T17:46:53.567395",
     "status": "completed"
    },
    "tags": []
   },
   "source": [
    "# 📚 Training model"
   ]
  },
  {
   "cell_type": "code",
   "execution_count": 13,
   "id": "51633b2c",
   "metadata": {
    "execution": {
     "iopub.execute_input": "2021-11-05T17:46:54.007119Z",
     "iopub.status.busy": "2021-11-05T17:46:53.654885Z",
     "iopub.status.idle": "2021-11-05T17:46:56.419730Z",
     "shell.execute_reply": "2021-11-05T17:46:56.420226Z",
     "shell.execute_reply.started": "2021-11-05T15:45:18.309491Z"
    },
    "papermill": {
     "duration": 2.807669,
     "end_time": "2021-11-05T17:46:56.420403",
     "exception": false,
     "start_time": "2021-11-05T17:46:53.612734",
     "status": "completed"
    },
    "tags": []
   },
   "outputs": [
    {
     "data": {
      "text/html": [
       "<style>#sk-container-id-1 {color: black;background-color: white;}#sk-container-id-1 pre{padding: 0;}#sk-container-id-1 div.sk-toggleable {background-color: white;}#sk-container-id-1 label.sk-toggleable__label {cursor: pointer;display: block;width: 100%;margin-bottom: 0;padding: 0.3em;box-sizing: border-box;text-align: center;}#sk-container-id-1 label.sk-toggleable__label-arrow:before {content: \"▸\";float: left;margin-right: 0.25em;color: #696969;}#sk-container-id-1 label.sk-toggleable__label-arrow:hover:before {color: black;}#sk-container-id-1 div.sk-estimator:hover label.sk-toggleable__label-arrow:before {color: black;}#sk-container-id-1 div.sk-toggleable__content {max-height: 0;max-width: 0;overflow: hidden;text-align: left;background-color: #f0f8ff;}#sk-container-id-1 div.sk-toggleable__content pre {margin: 0.2em;color: black;border-radius: 0.25em;background-color: #f0f8ff;}#sk-container-id-1 input.sk-toggleable__control:checked~div.sk-toggleable__content {max-height: 200px;max-width: 100%;overflow: auto;}#sk-container-id-1 input.sk-toggleable__control:checked~label.sk-toggleable__label-arrow:before {content: \"▾\";}#sk-container-id-1 div.sk-estimator input.sk-toggleable__control:checked~label.sk-toggleable__label {background-color: #d4ebff;}#sk-container-id-1 div.sk-label input.sk-toggleable__control:checked~label.sk-toggleable__label {background-color: #d4ebff;}#sk-container-id-1 input.sk-hidden--visually {border: 0;clip: rect(1px 1px 1px 1px);clip: rect(1px, 1px, 1px, 1px);height: 1px;margin: -1px;overflow: hidden;padding: 0;position: absolute;width: 1px;}#sk-container-id-1 div.sk-estimator {font-family: monospace;background-color: #f0f8ff;border: 1px dotted black;border-radius: 0.25em;box-sizing: border-box;margin-bottom: 0.5em;}#sk-container-id-1 div.sk-estimator:hover {background-color: #d4ebff;}#sk-container-id-1 div.sk-parallel-item::after {content: \"\";width: 100%;border-bottom: 1px solid gray;flex-grow: 1;}#sk-container-id-1 div.sk-label:hover label.sk-toggleable__label {background-color: #d4ebff;}#sk-container-id-1 div.sk-serial::before {content: \"\";position: absolute;border-left: 1px solid gray;box-sizing: border-box;top: 0;bottom: 0;left: 50%;z-index: 0;}#sk-container-id-1 div.sk-serial {display: flex;flex-direction: column;align-items: center;background-color: white;padding-right: 0.2em;padding-left: 0.2em;position: relative;}#sk-container-id-1 div.sk-item {position: relative;z-index: 1;}#sk-container-id-1 div.sk-parallel {display: flex;align-items: stretch;justify-content: center;background-color: white;position: relative;}#sk-container-id-1 div.sk-item::before, #sk-container-id-1 div.sk-parallel-item::before {content: \"\";position: absolute;border-left: 1px solid gray;box-sizing: border-box;top: 0;bottom: 0;left: 50%;z-index: -1;}#sk-container-id-1 div.sk-parallel-item {display: flex;flex-direction: column;z-index: 1;position: relative;background-color: white;}#sk-container-id-1 div.sk-parallel-item:first-child::after {align-self: flex-end;width: 50%;}#sk-container-id-1 div.sk-parallel-item:last-child::after {align-self: flex-start;width: 50%;}#sk-container-id-1 div.sk-parallel-item:only-child::after {width: 0;}#sk-container-id-1 div.sk-dashed-wrapped {border: 1px dashed gray;margin: 0 0.4em 0.5em 0.4em;box-sizing: border-box;padding-bottom: 0.4em;background-color: white;}#sk-container-id-1 div.sk-label label {font-family: monospace;font-weight: bold;display: inline-block;line-height: 1.2em;}#sk-container-id-1 div.sk-label-container {text-align: center;}#sk-container-id-1 div.sk-container {/* jupyter's `normalize.less` sets `[hidden] { display: none; }` but bootstrap.min.css set `[hidden] { display: none !important; }` so we also need the `!important` here to be able to override the default hidden behavior on the sphinx rendered scikit-learn.org. See: https://github.com/scikit-learn/scikit-learn/issues/21755 */display: inline-block !important;position: relative;}#sk-container-id-1 div.sk-text-repr-fallback {display: none;}</style><div id=\"sk-container-id-1\" class=\"sk-top-container\"><div class=\"sk-text-repr-fallback\"><pre>MultinomialNB()</pre><b>In a Jupyter environment, please rerun this cell to show the HTML representation or trust the notebook. <br />On GitHub, the HTML representation is unable to render, please try loading this page with nbviewer.org.</b></div><div class=\"sk-container\" hidden><div class=\"sk-item\"><div class=\"sk-estimator sk-toggleable\"><input class=\"sk-toggleable__control sk-hidden--visually\" id=\"sk-estimator-id-1\" type=\"checkbox\" checked><label for=\"sk-estimator-id-1\" class=\"sk-toggleable__label sk-toggleable__label-arrow\">MultinomialNB</label><div class=\"sk-toggleable__content\"><pre>MultinomialNB()</pre></div></div></div></div></div>"
      ],
      "text/plain": [
       "MultinomialNB()"
      ]
     },
     "execution_count": 13,
     "metadata": {},
     "output_type": "execute_result"
    }
   ],
   "source": [
    "nb = MultinomialNB()\n",
    "nb.fit(X_train,y_train)"
   ]
  },
  {
   "cell_type": "code",
   "execution_count": 14,
   "id": "895df0fe",
   "metadata": {
    "execution": {
     "iopub.execute_input": "2021-11-05T17:46:56.470501Z",
     "iopub.status.busy": "2021-11-05T17:46:56.469825Z",
     "iopub.status.idle": "2021-11-05T17:46:56.503272Z",
     "shell.execute_reply": "2021-11-05T17:46:56.503817Z",
     "shell.execute_reply.started": "2021-11-05T15:45:21.127843Z"
    },
    "papermill": {
     "duration": 0.059885,
     "end_time": "2021-11-05T17:46:56.504008",
     "exception": false,
     "start_time": "2021-11-05T17:46:56.444123",
     "status": "completed"
    },
    "tags": []
   },
   "outputs": [],
   "source": [
    "y_pred = nb.predict(X_test)"
   ]
  },
  {
   "cell_type": "markdown",
   "id": "da406d9f",
   "metadata": {
    "papermill": {
     "duration": 0.022936,
     "end_time": "2021-11-05T17:46:56.550609",
     "exception": false,
     "start_time": "2021-11-05T17:46:56.527673",
     "status": "completed"
    },
    "tags": []
   },
   "source": [
    "# 🧪 Test & Train Accuracy"
   ]
  },
  {
   "cell_type": "code",
   "execution_count": 15,
   "id": "1c11e8cf",
   "metadata": {
    "execution": {
     "iopub.execute_input": "2021-11-05T17:46:56.600767Z",
     "iopub.status.busy": "2021-11-05T17:46:56.600148Z",
     "iopub.status.idle": "2021-11-05T17:46:57.348963Z",
     "shell.execute_reply": "2021-11-05T17:46:57.347906Z",
     "shell.execute_reply.started": "2021-11-05T15:45:21.174655Z"
    },
    "papermill": {
     "duration": 0.774681,
     "end_time": "2021-11-05T17:46:57.349206",
     "exception": false,
     "start_time": "2021-11-05T17:46:56.574525",
     "status": "completed"
    },
    "tags": []
   },
   "outputs": [
    {
     "name": "stdout",
     "output_type": "stream",
     "text": [
      "Train Accuracy : 60.84%\n",
      "Test Accuracy  : 52.05%\n"
     ]
    }
   ],
   "source": [
    "Acc_train = nb.score(X_train, y_train)\n",
    "acc_test = nb.score(X_test, y_test)\n",
    "print('Train Accuracy : {:.2f}%'.format(Acc_train*100))\n",
    "print('Test Accuracy  : {:.2f}%'.format(acc_test*100))"
   ]
  },
  {
   "cell_type": "markdown",
   "id": "52ec818b",
   "metadata": {
    "papermill": {
     "duration": 0.025978,
     "end_time": "2021-11-05T17:46:57.399632",
     "exception": false,
     "start_time": "2021-11-05T17:46:57.373654",
     "status": "completed"
    },
    "tags": []
   },
   "source": [
    "# ✔️ Classification report"
   ]
  },
  {
   "cell_type": "code",
   "execution_count": 16,
   "id": "44effd80",
   "metadata": {
    "execution": {
     "iopub.execute_input": "2021-11-05T17:46:57.553585Z",
     "iopub.status.busy": "2021-11-05T17:46:57.552609Z",
     "iopub.status.idle": "2021-11-05T17:46:59.797475Z",
     "shell.execute_reply": "2021-11-05T17:46:59.796711Z",
     "shell.execute_reply.started": "2021-11-05T16:00:27.050591Z"
    },
    "papermill": {
     "duration": 2.360561,
     "end_time": "2021-11-05T17:46:59.797672",
     "exception": false,
     "start_time": "2021-11-05T17:46:57.437111",
     "status": "completed"
    },
    "tags": []
   },
   "outputs": [
    {
     "name": "stdout",
     "output_type": "stream",
     "text": [
      "                precision    recall  f1-score   support\n",
      "\n",
      "          ARTS       0.41      0.05      0.08       298\n",
      "ARTS & CULTURE       0.46      0.02      0.04       283\n",
      "  BLACK VOICES       0.60      0.23      0.33       882\n",
      "      BUSINESS       0.51      0.31      0.39      1121\n",
      "       COLLEGE       0.62      0.04      0.08       243\n",
      "        COMEDY       0.67      0.27      0.38      1068\n",
      "         CRIME       0.52      0.51      0.52       650\n",
      "CULTURE & ARTS       0.85      0.10      0.18       222\n",
      "       DIVORCE       0.82      0.44      0.57       696\n",
      "     EDUCATION       0.88      0.04      0.07       188\n",
      " ENTERTAINMENT       0.45      0.78      0.57      3139\n",
      "   ENVIRONMENT       1.00      0.03      0.06       275\n",
      "         FIFTY       0.00      0.00      0.00       269\n",
      "  FOOD & DRINK       0.64      0.70      0.67      1265\n",
      "     GOOD NEWS       0.62      0.05      0.09       276\n",
      "         GREEN       0.48      0.14      0.22       515\n",
      "HEALTHY LIVING       0.40      0.06      0.10      1342\n",
      " HOME & LIVING       0.75      0.58      0.66       848\n",
      "        IMPACT       0.44      0.08      0.14       696\n",
      " LATINO VOICES       0.75      0.03      0.05       215\n",
      "         MEDIA       0.70      0.15      0.25       544\n",
      "         MONEY       0.75      0.08      0.15       354\n",
      "     PARENTING       0.44      0.54      0.48      1753\n",
      "       PARENTS       0.48      0.07      0.11       783\n",
      "      POLITICS       0.50      0.92      0.64      6484\n",
      "  QUEER VOICES       0.67      0.50      0.58      1288\n",
      "      RELIGION       0.72      0.17      0.27       498\n",
      "       SCIENCE       0.83      0.28      0.42       442\n",
      "        SPORTS       0.73      0.57      0.64      1016\n",
      "         STYLE       0.33      0.00      0.00       462\n",
      "STYLE & BEAUTY       0.61      0.79      0.69      1984\n",
      "         TASTE       0.81      0.03      0.05       458\n",
      "          TECH       0.71      0.16      0.26       437\n",
      " THE WORLDPOST       0.53      0.40      0.46       725\n",
      "        TRAVEL       0.62      0.75      0.68      2012\n",
      "      WEDDINGS       0.88      0.51      0.64       770\n",
      "    WEIRD NEWS       0.41      0.10      0.16       511\n",
      "      WELLNESS       0.41      0.79      0.54      3476\n",
      "         WOMEN       0.62      0.11      0.19       724\n",
      "    WORLD NEWS       0.64      0.05      0.10       427\n",
      "     WORLDPOST       0.58      0.07      0.12       532\n",
      "\n",
      "      accuracy                           0.52     40171\n",
      "     macro avg       0.61      0.28      0.31     40171\n",
      "  weighted avg       0.56      0.52      0.46     40171\n",
      "\n"
     ]
    }
   ],
   "source": [
    "print(classification_report(y_test, y_pred))"
   ]
  },
  {
   "cell_type": "code",
   "execution_count": 17,
   "id": "7044eea9",
   "metadata": {},
   "outputs": [],
   "source": [
    "from joblib import dump,load"
   ]
  },
  {
   "cell_type": "code",
   "execution_count": 18,
   "id": "6efc4968",
   "metadata": {},
   "outputs": [
    {
     "data": {
      "text/plain": [
       "['news_classifier.joblib']"
      ]
     },
     "execution_count": 18,
     "metadata": {},
     "output_type": "execute_result"
    }
   ],
   "source": [
    "clf_dict = {'model':nb, 'vectorizer':vectorizer}\n",
    "dump(clf_dict, 'news_classifier.joblib')"
   ]
  },
  {
   "cell_type": "code",
   "execution_count": null,
   "id": "bd62a4f8",
   "metadata": {},
   "outputs": [],
   "source": [
    "\n"
   ]
  },
  {
   "cell_type": "code",
   "execution_count": 19,
   "id": "87be7c14",
   "metadata": {},
   "outputs": [],
   "source": [
    "def make_predict(news_data):\n",
    "    xinp = clean_text(xinp)\n",
    "    loaded_model = load('news_classifier.joblib')\n",
    "    vectorizer = loaded_model['vectorizer']\n",
    "    nb = loaded_model['model']\n",
    "    xinpv = vectorizer.transform([xinp])\n",
    "    y_pred = nb.predict(xinpv)\n",
    "    return y_pred"
   ]
  },
  {
   "cell_type": "markdown",
   "id": "9cac54a4",
   "metadata": {
    "papermill": {
     "duration": 0.023421,
     "end_time": "2021-11-05T17:46:59.845859",
     "exception": false,
     "start_time": "2021-11-05T17:46:59.822438",
     "status": "completed"
    },
    "tags": []
   },
   "source": [
    "# ✨ Thanks"
   ]
  }
 ],
 "metadata": {
  "interpreter": {
   "hash": "7b8a52038f5da5aa877987515cd692d8371a6f143b75c12d63db471be6b9a2e4"
  },
  "kernelspec": {
   "display_name": "Python 3.9.12 ('base')",
   "language": "python",
   "name": "python3"
  },
  "language_info": {
   "codemirror_mode": {
    "name": "ipython",
    "version": 3
   },
   "file_extension": ".py",
   "mimetype": "text/x-python",
   "name": "python",
   "nbconvert_exporter": "python",
   "pygments_lexer": "ipython3",
   "version": "3.9.12"
  },
  "papermill": {
   "default_parameters": {},
   "duration": 101.819084,
   "end_time": "2021-11-05T17:47:00.827511",
   "environment_variables": {},
   "exception": null,
   "input_path": "__notebook__.ipynb",
   "output_path": "__notebook__.ipynb",
   "parameters": {},
   "start_time": "2021-11-05T17:45:19.008427",
   "version": "2.3.3"
  }
 },
 "nbformat": 4,
 "nbformat_minor": 5
}
